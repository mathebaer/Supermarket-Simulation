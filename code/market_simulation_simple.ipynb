{
 "cells": [
  {
   "cell_type": "code",
   "execution_count": 1,
   "id": "cb2bf8d5",
   "metadata": {},
   "outputs": [],
   "source": [
    "import pandas as pd\n",
    "import numpy as np\n",
    "from collections import deque\n",
    "import random\n",
    "import time\n",
    "from IPython.display import clear_output\n",
    "\n",
    "from Customer import Customer\n",
    "\n",
    "#import Supermarket\n",
    "\n",
    "customers = [] # list for instatiations of class Customer"
   ]
  },
  {
   "cell_type": "code",
   "execution_count": 2,
   "id": "923dc9b3",
   "metadata": {},
   "outputs": [],
   "source": [
    "index = ['c', 'm', 'd', 'f', 's', 'e']\n",
    "columns = index\n",
    "\n",
    "# Define the values\n",
    "values = [0.000000, 0.000000, 0.000000, 0.000000, 0.000000, 1.,\n",
    "0.102697, 0.738706, 0.058134, 0.049478, 0.050986,0.,\n",
    "0.215334, 0.010880, 0.599199, 0.087755, 0.086832,0.,\n",
    "0.200564, 0.095428, 0.054564, 0.599029, 0.050415,0.,\n",
    "0.149613, 0.191839, 0.161948, 0.090305, 0.406294, 0.,\n",
    "0.000000, 0.287576, 0.153526, 0.377435, 0.181464,0.]\n",
    "\n",
    "# Create the DataFrame\n",
    "data = [values[i:i+len(columns)] for i in range(0, len(values), len(columns))]\n",
    "inverted_matrix = pd.DataFrame(data, index=index, columns=columns)\n",
    "\n",
    "transition_matrix = inverted_matrix.T"
   ]
  },
  {
   "cell_type": "code",
   "execution_count": 3,
   "id": "f47d61c9",
   "metadata": {},
   "outputs": [
    {
     "data": {
      "text/html": [
       "<div>\n",
       "<style scoped>\n",
       "    .dataframe tbody tr th:only-of-type {\n",
       "        vertical-align: middle;\n",
       "    }\n",
       "\n",
       "    .dataframe tbody tr th {\n",
       "        vertical-align: top;\n",
       "    }\n",
       "\n",
       "    .dataframe thead th {\n",
       "        text-align: right;\n",
       "    }\n",
       "</style>\n",
       "<table border=\"1\" class=\"dataframe\">\n",
       "  <thead>\n",
       "    <tr style=\"text-align: right;\">\n",
       "      <th></th>\n",
       "      <th>c</th>\n",
       "      <th>m</th>\n",
       "      <th>d</th>\n",
       "      <th>f</th>\n",
       "      <th>s</th>\n",
       "      <th>e</th>\n",
       "    </tr>\n",
       "  </thead>\n",
       "  <tbody>\n",
       "    <tr>\n",
       "      <th>c</th>\n",
       "      <td>0.0</td>\n",
       "      <td>0.102697</td>\n",
       "      <td>0.215334</td>\n",
       "      <td>0.200564</td>\n",
       "      <td>0.149613</td>\n",
       "      <td>0.000000</td>\n",
       "    </tr>\n",
       "    <tr>\n",
       "      <th>m</th>\n",
       "      <td>0.0</td>\n",
       "      <td>0.738706</td>\n",
       "      <td>0.010880</td>\n",
       "      <td>0.095428</td>\n",
       "      <td>0.191839</td>\n",
       "      <td>0.287576</td>\n",
       "    </tr>\n",
       "    <tr>\n",
       "      <th>d</th>\n",
       "      <td>0.0</td>\n",
       "      <td>0.058134</td>\n",
       "      <td>0.599199</td>\n",
       "      <td>0.054564</td>\n",
       "      <td>0.161948</td>\n",
       "      <td>0.153526</td>\n",
       "    </tr>\n",
       "    <tr>\n",
       "      <th>f</th>\n",
       "      <td>0.0</td>\n",
       "      <td>0.049478</td>\n",
       "      <td>0.087755</td>\n",
       "      <td>0.599029</td>\n",
       "      <td>0.090305</td>\n",
       "      <td>0.377435</td>\n",
       "    </tr>\n",
       "    <tr>\n",
       "      <th>s</th>\n",
       "      <td>0.0</td>\n",
       "      <td>0.050986</td>\n",
       "      <td>0.086832</td>\n",
       "      <td>0.050415</td>\n",
       "      <td>0.406294</td>\n",
       "      <td>0.181464</td>\n",
       "    </tr>\n",
       "    <tr>\n",
       "      <th>e</th>\n",
       "      <td>1.0</td>\n",
       "      <td>0.000000</td>\n",
       "      <td>0.000000</td>\n",
       "      <td>0.000000</td>\n",
       "      <td>0.000000</td>\n",
       "      <td>0.000000</td>\n",
       "    </tr>\n",
       "  </tbody>\n",
       "</table>\n",
       "</div>"
      ],
      "text/plain": [
       "     c         m         d         f         s         e\n",
       "c  0.0  0.102697  0.215334  0.200564  0.149613  0.000000\n",
       "m  0.0  0.738706  0.010880  0.095428  0.191839  0.287576\n",
       "d  0.0  0.058134  0.599199  0.054564  0.161948  0.153526\n",
       "f  0.0  0.049478  0.087755  0.599029  0.090305  0.377435\n",
       "s  0.0  0.050986  0.086832  0.050415  0.406294  0.181464\n",
       "e  1.0  0.000000  0.000000  0.000000  0.000000  0.000000"
      ]
     },
     "execution_count": 3,
     "metadata": {},
     "output_type": "execute_result"
    }
   ],
   "source": [
    "transition_matrix"
   ]
  },
  {
   "cell_type": "code",
   "execution_count": 4,
   "id": "3eec2b92",
   "metadata": {},
   "outputs": [],
   "source": [
    "MARKET = \"\"\"\n",
    "##########################\n",
    "##......................##\n",
    "##......................##\n",
    "##...ss98mm....dd07ff...##\n",
    "##...ss98mm....dd06ff...##\n",
    "##...ss98mm....dd05ff...##\n",
    "##...ss98mm....dd04ff...##\n",
    "##...ss98mm....dd04ff...##\n",
    "##...ss98mm....dd03ff...##\n",
    "##......................##\n",
    "##......................##\n",
    "###..#..#..#..#..#......##\n",
    "###2.#..#2.#..#.2#.......1\n",
    "###2c#..#2c#..#c2#####...1\n",
    "##......................e1\n",
    "##......................e1\n",
    "########################11\n",
    "\"\"\".strip()\n",
    "\n",
    "store = np.array([list(row) for row in MARKET.split('\\n')])\n",
    "store_original = store.copy()"
   ]
  },
  {
   "cell_type": "code",
   "execution_count": null,
   "id": "a0b47ef9",
   "metadata": {},
   "outputs": [],
   "source": []
  },
  {
   "cell_type": "code",
   "execution_count": 5,
   "id": "730a7f0d",
   "metadata": {},
   "outputs": [
    {
     "name": "stdout",
     "output_type": "stream",
     "text": [
      "Max X-coordinate: 25\n",
      "Max Y-coordinate: 16\n",
      ".\n"
     ]
    }
   ],
   "source": [
    "max_x = store.shape[1] - 1  # Subtract 1 to get the maximum x-coordinate\n",
    "max_y = store.shape[0] - 1  # Subtract 1 to get the maximum y-coordinate\n",
    "\n",
    "print(\"Max X-coordinate:\", max_x)\n",
    "print(\"Max Y-coordinate:\", max_y)\n",
    "print(store[15][23])"
   ]
  },
  {
   "cell_type": "code",
   "execution_count": 6,
   "id": "c2cfad8a",
   "metadata": {},
   "outputs": [],
   "source": [
    "customer = Customer(ident=1, state='e', icon='A', s_i = 12, s_j = 24, inverted_matrix=inverted_matrix, store=store, store_original=store_original)\n",
    "customers.append(customer)\n",
    "customer = Customer(ident=2, state='e', icon='B', s_i = 13, s_j = 24, inverted_matrix=inverted_matrix, store=store, store_original=store_original)\n",
    "customers.append(customer)\n",
    "customer = Customer(ident=3, state='e', icon='C', s_i = 15, s_j = 23, inverted_matrix=inverted_matrix, store=store, store_original=store_original)\n",
    "customers.append(customer)\n",
    "customer_count = 3\n",
    "customers_present = 3"
   ]
  },
  {
   "cell_type": "code",
   "execution_count": 7,
   "id": "e145e816",
   "metadata": {},
   "outputs": [],
   "source": [
    "MAX_CUSTOMER_COUNT = 15   ## total number of customers to enter the store\n",
    "MAX_STEPS_PER_MINUTE = 25\n",
    "SLEEP_TIME = .4"
   ]
  },
  {
   "cell_type": "code",
   "execution_count": null,
   "id": "01f65e7d",
   "metadata": {},
   "outputs": [],
   "source": [
    "#Breakpoint"
   ]
  },
  {
   "cell_type": "code",
   "execution_count": null,
   "id": "a52c55b0",
   "metadata": {},
   "outputs": [
    {
     "name": "stdout",
     "output_type": "stream",
     "text": [
      "# # # # # # # # # # # # # # # # # # # # # # # # # #\n",
      "# # . . . . . . . . . . . . . . . . . . . . . . # #\n",
      "# # . . . . . . . . . . . . . . . . . . . . . . # #\n",
      "# # . . . s s 9 8 m E . . . . d d 0 7 B f . . . # #\n",
      "# # . . . s s 9 8 m F . . . . d d 0 6 f f . . . # #\n",
      "# # . . . s s 9 8 C F . . . . d d 0 5 f f . . . # #\n",
      "# # . . . s s 9 8 m B . . . . d d 0 4 f G . . . # #\n",
      "# # . . . s s 9 8 m m . . . . d H 0 4 E f . . . # #\n",
      "# # . . . s s 9 8 m m . . . . D d 0 3 C f . . . # #\n",
      "# # . . . . . . . . . . . . . . . . . . . . . . # #\n",
      "# # . . . . . . . . . . . . . . . . . . . . . . # #\n",
      "# # # . . # . . # . . # . . # . . # . . . . . . # #\n",
      "# # # 2 . # . . # 2 . # . . # . 2 # . . . . . . . 1\n",
      "# # # 2 c # . . # 2 c # . . # c 2 # # # # # . . . 1\n",
      "# # . . . . . . . . . . . . . . . . . . . . . . e 1\n",
      "# # . . . . . . . . . . . . . . . . . . . . . . e 1\n",
      "# # # # # # # # # # # # # # # # # # # # # # # # 1 1\n",
      "customers_present: 11\n"
     ]
    }
   ],
   "source": [
    "while customers_present > 0:   ## this loop runs every minute\n",
    "    #print(customer_count, icon)\n",
    "    for customer in customers:               ## customers update their goal once every minute\n",
    "        customer.update_goal_state()\n",
    "    for seconds in range(MAX_STEPS_PER_MINUTE): ## this loop allows customer to reach their goal in max .. steps \n",
    "        for customer in customers:\n",
    "            customer.move_s_closer_to_d(store, store_original)\n",
    "            print('customers_present:', customers_present)\n",
    "            if customer.icon == 'Z':\n",
    "#                print('customer', customer.ident, 'about to leave. customers present:', customers_present)\n",
    "#                time.sleep(3)\n",
    "                customers.remove(customer)\n",
    "                del customer\n",
    "                customers_present -= 1\n",
    "#                print('customers present:', customers_present)\n",
    "        chance = random.random()\n",
    "        if chance < .09 and customer_count < MAX_CUSTOMER_COUNT:            ## with a small probability, create new customer\n",
    "            customer_count +=1\n",
    "            customers_present +=1\n",
    "            icon = chr(65+(customer_count-1)%8)\n",
    "            print('new customer:', customer_count, icon, customers_present, chance)\n",
    "            customer = Customer(ident=customer_count, state='e', icon=icon, s_i = 13, s_j = 25, inverted_matrix=inverted_matrix, store=store, store_original=store_original)\n",
    "            customers.append(customer)\n",
    "            customer.update_goal_state()\n",
    "            print('new customer:', customer.state, customer.s_i, customer.s_j)\n",
    "            ## this new customer might miss goal within the rest of the .. steps \n",
    "#            time.sleep(3)\n",
    "        time.sleep(SLEEP_TIME)\n",
    "#    for customer in customers:\n",
    "#        print('these are left:', customer.ident, customer.icon, customer.s_i, customer.s_j)\n",
    "\n"
   ]
  },
  {
   "cell_type": "code",
   "execution_count": null,
   "id": "7edf8686",
   "metadata": {},
   "outputs": [],
   "source": []
  },
  {
   "cell_type": "code",
   "execution_count": null,
   "id": "e9d6de30",
   "metadata": {},
   "outputs": [],
   "source": []
  },
  {
   "cell_type": "code",
   "execution_count": null,
   "id": "d92d84d4",
   "metadata": {},
   "outputs": [],
   "source": []
  },
  {
   "cell_type": "code",
   "execution_count": null,
   "id": "b0e61abc",
   "metadata": {},
   "outputs": [],
   "source": []
  }
 ],
 "metadata": {
  "kernelspec": {
   "display_name": "Python 3 (ipykernel)",
   "language": "python",
   "name": "python3"
  },
  "language_info": {
   "codemirror_mode": {
    "name": "ipython",
    "version": 3
   },
   "file_extension": ".py",
   "mimetype": "text/x-python",
   "name": "python",
   "nbconvert_exporter": "python",
   "pygments_lexer": "ipython3",
   "version": "3.10.9"
  }
 },
 "nbformat": 4,
 "nbformat_minor": 5
}
